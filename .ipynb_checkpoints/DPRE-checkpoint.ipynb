{
 "cells": [
  {
   "cell_type": "markdown",
   "metadata": {},
   "source": [
    "### Arctic design project raiting estimation"
   ]
  },
  {
   "cell_type": "code",
   "execution_count": 2,
   "metadata": {
    "scrolled": false
   },
   "outputs": [],
   "source": [
    "import numpy as np\n",
    "import pandas as pd\n",
    "import ipywidgets as widgets\n",
    "# from io import BytesIO\n",
    "# from IPython.display import HTML\n",
    "# import base64"
   ]
  },
  {
   "cell_type": "code",
   "execution_count": 14,
   "metadata": {
    "scrolled": true
   },
   "outputs": [],
   "source": []
  },
  {
   "cell_type": "code",
   "execution_count": 15,
   "metadata": {},
   "outputs": [],
   "source": [
    "\n"
   ]
  },
  {
   "cell_type": "code",
   "execution_count": 16,
   "metadata": {},
   "outputs": [],
   "source": []
  },
  {
   "cell_type": "code",
   "execution_count": 17,
   "metadata": {},
   "outputs": [],
   "source": []
  },
  {
   "cell_type": "code",
   "execution_count": 18,
   "metadata": {},
   "outputs": [
    {
     "data": {
      "text/plain": [
       "2.0"
      ]
     },
     "execution_count": 18,
     "metadata": {},
     "output_type": "execute_result"
    }
   ],
   "source": [
    "#out.clear_output()\n",
    "data_ini = pd.read_excel('220414_arct_tbl_resallexs_e.xlsx')\n",
    "#print(\"Data preloaded: \\n\", data_ini.head())\n",
    "#data_ini.iloc[2,1]"
   ]
  },
  {
   "cell_type": "markdown",
   "metadata": {},
   "source": [
    "text"
   ]
  },
  {
   "cell_type": "code",
   "execution_count": 20,
   "metadata": {},
   "outputs": [
    {
     "data": {
      "application/vnd.jupyter.widget-view+json": {
       "model_id": "9c202189ccd94366852b53991b3e2ab6",
       "version_major": 2,
       "version_minor": 0
      },
      "text/plain": [
       "Output()"
      ]
     },
     "metadata": {},
     "output_type": "display_data"
    },
    {
     "data": {
      "application/vnd.jupyter.widget-view+json": {
       "model_id": "5f19f78d032a4fed96fbe6292090fa83",
       "version_major": 2,
       "version_minor": 0
      },
      "text/plain": [
       "Output()"
      ]
     },
     "metadata": {},
     "output_type": "display_data"
    },
    {
     "data": {
      "application/vnd.jupyter.widget-view+json": {
       "model_id": "7b12cd06792445e5bdbb0e6456b26ee3",
       "version_major": 2,
       "version_minor": 0
      },
      "text/plain": [
       "Output()"
      ]
     },
     "metadata": {},
     "output_type": "display_data"
    }
   ],
   "source": [
    "# Initialize outputs\n",
    "\n",
    "data_process_output = widgets.Output(clear_output=True)\n",
    "display(data_process_output)\n",
    "\n",
    "compute_btn_output = widgets.Output(clear_output=True)\n",
    "display(compute_btn_output)\n",
    "\n",
    "data_output = widgets.Output(clear_output=True)\n",
    "display(data_output)\n",
    "                           \n",
    "def compute_btn_eventhandler(obj):\n",
    "    global data_ini\n",
    "    global table_output\n",
    "    data_output.clear_output(wait=True)\n",
    "    return data_ini\n",
    "\n",
    "compute_btn = widgets.Button(description=\"Get Courno map\", button_style='success')\n",
    "compute_btn.on_click(compute_btn_eventhandler)\n",
    "\n",
    "columnsselected = widgets.Text(\n",
    "    value='00000',\n",
    "    placeholder='F',\n",
    "    description='F value',\n",
    "    disabled=False\n",
    ")\n",
    "\n",
    "with compute_btn_output:\n",
    "    display(compute_btn)\n",
    "\n"
   ]
  },
  {
   "cell_type": "code",
   "execution_count": null,
   "metadata": {},
   "outputs": [],
   "source": []
  }
 ],
 "metadata": {
  "kernelspec": {
   "display_name": "Python 3 (ipykernel)",
   "language": "python",
   "name": "python3"
  },
  "language_info": {
   "codemirror_mode": {
    "name": "ipython",
    "version": 3
   },
   "file_extension": ".py",
   "mimetype": "text/x-python",
   "name": "python",
   "nbconvert_exporter": "python",
   "pygments_lexer": "ipython3",
   "version": "3.8.11"
  }
 },
 "nbformat": 4,
 "nbformat_minor": 4
}
